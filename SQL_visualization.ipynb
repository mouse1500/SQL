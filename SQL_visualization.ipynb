{
 "cells": [
  {
   "cell_type": "markdown",
   "metadata": {},
   "source": [
    "### Задание 1.\n",
    "\n",
    "#### В каких странах имеется наибольшее число уникальных пользователей. Постройте барчарт, где:\n",
    "- по оси x – страна\n",
    "- по оси y – число пользователей\n",
    "\n",
    "#### В качестве ответа укажите число уникальных пользователей из Великобритании. "
   ]
  },
  {
   "cell_type": "code",
   "execution_count": null,
   "metadata": {},
   "outputs": [],
   "source": [
    "SELECT\n",
    "    COUNT(DISTINCT CustomerID) AS unique_users,\n",
    "    Country \n",
    "FROM retail\n",
    "GROUP BY Country\n",
    "ORDER BY unique_users DESC\n",
    "# 3950"
   ]
  },
  {
   "cell_type": "markdown",
   "metadata": {},
   "source": [
    "### Задание 2.\n",
    "#### Смотрим на динамику изменения числа активных пользователей в месяц в Великобритании, Австралии и Нидерландах. Полученная вами результирующая таблица должна иметь вид: страна - число уникальных пользователей за определённый месяц.\n",
    "\n",
    "- MAU (monthly active users) – число уникальных пользователей за месяц. Активные пользователи – те, кто сделал хотя бы один заказ за выбранный промежуток времени (месяц).\n",
    "\n",
    "#### В качестве ответа укажите наименьшее число пользователей за февраль 2011. "
   ]
  },
  {
   "cell_type": "code",
   "execution_count": null,
   "metadata": {},
   "outputs": [],
   "source": [
    "SELECT\n",
    "    Country,\n",
    "    COUNT(DISTINCT CustomerID) AS count_users,\n",
    "    toStartOfMonth(InvoiceDate) AS month\n",
    "FROM retail\n",
    "WHERE Country in ('United Kingdom', 'Australia', 'Netherlands')\n",
    "GROUP BY Country, month\n",
    "ORDER BY month DESC"
   ]
  },
  {
   "cell_type": "markdown",
   "metadata": {},
   "source": [
    "### Задание 3.\n",
    "#### Давайте посмотрим на динамику изменения числа активных пользователей в месяц уже для всех стран, кроме Великобритании. \n",
    "\n",
    "#### В каких месяцах число активных пользователей во Франции было больше, чем в Германии?"
   ]
  },
  {
   "cell_type": "code",
   "execution_count": null,
   "metadata": {},
   "outputs": [],
   "source": [
    "SELECT\n",
    "    Country,\n",
    "    COUNT(DISTINCT CustomerID) AS count_users,\n",
    "    toStartOfMonth(InvoiceDate) AS month\n",
    "FROM retail\n",
    "WHERE Country != 'United Kingdom' \n",
    "GROUP BY Country, month\n",
    "ORDER BY month DESC"
   ]
  },
  {
   "cell_type": "markdown",
   "metadata": {},
   "source": [
    "### Задание 4.\n",
    "#### Давайте посмотрим на динамику изменения числа активных пользователей в месяц уже для всех стран, кроме Великобритании. \n",
    "\n",
    "#### В каких месяцах число активных пользователей во Франции было больше, чем в Германии?"
   ]
  },
  {
   "cell_type": "code",
   "execution_count": null,
   "metadata": {},
   "outputs": [],
   "source": [
    "SELECT\n",
    "    Country,\n",
    "    COUNT(DISTINCT CustomerID) AS count_users,\n",
    "    toStartOfMonth(InvoiceDate) AS month\n",
    "FROM retail\n",
    "WHERE Country != 'United Kingdom' \n",
    "GROUP BY Country, month\n",
    "ORDER BY month DESC"
   ]
  },
  {
   "cell_type": "markdown",
   "metadata": {},
   "source": [
    "### Задание 5.\n",
    "####  Посчитайте среднюю сумму заказа (AOV – average order value) в каждой из стран."
   ]
  },
  {
   "cell_type": "code",
   "execution_count": null,
   "metadata": {},
   "outputs": [],
   "source": [
    "SELECT\n",
    "    Country,\n",
    "    AVG(TotalPrice) AS total_avg\n",
    "FROM\n",
    "    (SELECT\n",
    "        InvoiceNo,\n",
    "        Country,\n",
    "        SUM(UnitPrice * Quantity) AS TotalPrice\n",
    "    FROM \n",
    "        retail\n",
    "    WHERE\n",
    "        Quantity > '0'\n",
    "    GROUP BY\n",
    "        InvoiceNo,\n",
    "        Country)\n",
    "GROUP BY\n",
    "    Country"
   ]
  },
  {
   "cell_type": "markdown",
   "metadata": {},
   "source": [
    "### Задание 6.\n",
    "#### Как изменялась средняя сумма заказа в разных странах по месяцам?\n",
    "#### Предположим, нас интересует динамика в следующих странах: United Kingdom, Germany, France, Spain, Netherlands, Belgium, Switzerland, Portugal, Australia, USA. Визуализируйте результат и выберите верные утверждения."
   ]
  },
  {
   "cell_type": "code",
   "execution_count": null,
   "metadata": {},
   "outputs": [],
   "source": [
    "SELECT\n",
    "    toStartOfMonth(InvoiceDate) AS month,\n",
    "    Country,\n",
    "    AVG(TotalPrice) AS total_avg\n",
    "FROM\n",
    "    (SELECT\n",
    "        InvoiceDate,\n",
    "        Country,\n",
    "        SUM(UnitPrice * Quantity) AS TotalPrice\n",
    "    FROM \n",
    "        retail\n",
    "    WHERE\n",
    "        Country in ('United Kingdom', 'Germany', 'France', 'Spain', 'Netherlands', 'Belgium', 'Switzerland', 'Portugal', 'Australia', 'USA')\n",
    "    GROUP BY\n",
    "        InvoiceDate,\n",
    "        Country)\n",
    "GROUP BY\n",
    "    Country, month\n",
    "ORDER BY\n",
    "    total_avg DESC"
   ]
  },
  {
   "cell_type": "markdown",
   "metadata": {},
   "source": [
    "### Задание 7.\n",
    "\n",
    "#### Сколько товаров пользователи обычно добавляют в корзину? Посчитайте среднее количество товаров, добавленных в корзину, с разбивкой по странам. В качестве ответа укажите среднее число товаров в заказе среди пользователей в Канаде (Canada)."
   ]
  },
  {
   "cell_type": "code",
   "execution_count": null,
   "metadata": {},
   "outputs": [],
   "source": [
    "SELECT\n",
    "    Country,\n",
    "    AVG(sum_quantity) AS avg_quantity\n",
    "FROM\n",
    "    (SELECT\n",
    "        SUM(Quantity) AS sum_quantity,\n",
    "        Country,\n",
    "        InvoiceNo\n",
    "    FROM\n",
    "        retail\n",
    "    GROUP BY\n",
    "        Country, InvoiceNo\n",
    "    )\n",
    "GROUP BY\n",
    "    Country\n",
    "ORDER BY\n",
    "    avg_quantity DESC"
   ]
  },
  {
   "cell_type": "markdown",
   "metadata": {},
   "source": [
    "### Задание 8.\n",
    "\n",
    "#### Посмотрим на Нидерланды (Netherlands) более подробно. Сгруппируйте данные по пользователям и посмотрите, кто купил наибольшее число товаров. В ответе укажите идентификатор данного пользователя. "
   ]
  },
  {
   "cell_type": "code",
   "execution_count": null,
   "metadata": {},
   "outputs": [],
   "source": [
    "SELECT\n",
    "    CustomerID,\n",
    "    SUM(Quantity) AS sum_Quantity,\n",
    "    Country\n",
    "FROM\n",
    "    retail\n",
    "GROUP BY\n",
    "    CustomerID, Country\n",
    "ORDER BY\n",
    "    sum_Quantity DESC"
   ]
  },
  {
   "cell_type": "code",
   "execution_count": null,
   "metadata": {},
   "outputs": [],
   "source": []
  },
  {
   "cell_type": "code",
   "execution_count": null,
   "metadata": {},
   "outputs": [],
   "source": []
  },
  {
   "cell_type": "code",
   "execution_count": null,
   "metadata": {},
   "outputs": [],
   "source": []
  },
  {
   "cell_type": "code",
   "execution_count": null,
   "metadata": {},
   "outputs": [],
   "source": []
  },
  {
   "cell_type": "code",
   "execution_count": null,
   "metadata": {},
   "outputs": [],
   "source": []
  },
  {
   "cell_type": "code",
   "execution_count": null,
   "metadata": {},
   "outputs": [],
   "source": []
  }
 ],
 "metadata": {
  "kernelspec": {
   "display_name": "Python 3",
   "language": "python",
   "name": "python3"
  },
  "language_info": {
   "codemirror_mode": {
    "name": "ipython",
    "version": 3
   },
   "file_extension": ".py",
   "mimetype": "text/x-python",
   "name": "python",
   "nbconvert_exporter": "python",
   "pygments_lexer": "ipython3",
   "version": "3.7.3"
  }
 },
 "nbformat": 4,
 "nbformat_minor": 4
}
