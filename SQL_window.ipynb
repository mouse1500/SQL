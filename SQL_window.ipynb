{
 "cells": [
  {
   "cell_type": "markdown",
   "metadata": {},
   "source": [
    "### Задание 1.\n",
    "#### Давайте посмотрим на продажи авокадо в двух городах (NewYork, LosAngeles) и узнаем, сколько авокадо типа organic было продано в целом к концу каждой недели (накопительная сумма продаж), начиная с начала периода наблюдений (04/01/15)"
   ]
  },
  {
   "cell_type": "code",
   "execution_count": null,
   "metadata": {},
   "outputs": [],
   "source": [
    "select\n",
    "    region,\n",
    "    date,\n",
    "    total_volume,\n",
    "    sum(total_volume) OVER w as volume\n",
    "from\n",
    "    avocado\n",
    "where \n",
    "    region in ('NewYork', 'LosAngeles') AND\n",
    "    type = 'organic'\n",
    "window w as\n",
    "    (\n",
    "    PARTITION BY region\n",
    "    order by date\n",
    "    ROWS BETWEEN UNBOUNDED PRECEDING AND CURRENT ROW\n",
    "    )\n",
    "order by\n",
    "    region desc,\n",
    "    date asc"
   ]
  },
  {
   "cell_type": "markdown",
   "metadata": {},
   "source": [
    "### Задание 2.\n",
    "#### Посмотрим, когда объемы продаж обычных (conventional) авокадо резко падали по сравнению с предыдущей неделей. Возьмите данные по США в целом, посчитайте разницу между объемом продаж в неделю x (total_volume) и количеством проданных авокадо в течение предыдущей недели. Значения запишите в новый столбец week_diff."
   ]
  },
  {
   "cell_type": "code",
   "execution_count": null,
   "metadata": {},
   "outputs": [],
   "source": [
    "select\n",
    "    region,\n",
    "    date,\n",
    "    type,\n",
    "    total_volume,\n",
    "    total_volume - lag(total_volume, 1) OVER w week_diff\n",
    "from\n",
    "    avocado\n",
    "where \n",
    "    region = 'TotalUS' AND\n",
    "    type = 'conventional'\n",
    "window w as\n",
    "    (\n",
    "    PARTITION BY region\n",
    "    order by date\n",
    "    ROWS BETWEEN UNBOUNDED PRECEDING AND CURRENT ROW\n",
    "    )\n",
    "order by\n",
    "    region desc,\n",
    "    date asc"
   ]
  },
  {
   "cell_type": "markdown",
   "metadata": {},
   "source": [
    "### Задание 3.\n",
    "#### Посмотрим более подробно на объемы продаж авокадо в Нью-Йорке (NewYork) в 2018 году. Создайте колонку с разницей объемов продаж за неделю и за неделю до этого для каждого типа авокадо. Найдите день, когда продажи авокадо типа organic увеличились по сравнению с предыдущей неделей, а conventional – наоборот упали.\n"
   ]
  },
  {
   "cell_type": "code",
   "execution_count": null,
   "metadata": {},
   "outputs": [],
   "source": [
    "select\n",
    "    region,\n",
    "    year,\n",
    "    total_volume,\n",
    "    type,\n",
    "    date,\n",
    "    total_volume - lag(total_volume, 1) OVER w difference\n",
    "from\n",
    "    avocado\n",
    "where\n",
    "    region = 'NewYork' and year = '2018'\n",
    "window w as\n",
    "    (\n",
    "    PARTITION BY type\n",
    "    order by date\n",
    "    ROWS BETWEEN UNBOUNDED PRECEDING AND CURRENT ROW\n",
    "    )\n",
    "order by\n",
    "    type"
   ]
  },
  {
   "cell_type": "markdown",
   "metadata": {},
   "source": [
    "### Задание 4.\n",
    "#### Теперь посчитайте скользящее среднее цены авокадо (average_price) в Нью-Йорке с разбивкой по типу авокадо. В качестве окна используйте текущую неделю и предыдущие две (обратите внимание, что в данной таблице в строках содержатся данные за неделю, а не за один день)."
   ]
  },
  {
   "cell_type": "code",
   "execution_count": null,
   "metadata": {},
   "outputs": [],
   "source": [
    "select\n",
    "    date,\n",
    "    average_price,\n",
    "    region,\n",
    "    type,\n",
    "    avg(average_price) OVER w as rolling_price\n",
    "from\n",
    "    avocado\n",
    "where\n",
    "    region = 'NewYork'\n",
    "window w as\n",
    "    (\n",
    "    PARTITION BY type\n",
    "    order by date\n",
    "    ROWS BETWEEN 2 PRECEDING AND CURRENT ROW\n",
    "    )"
   ]
  }
 ],
 "metadata": {
  "kernelspec": {
   "display_name": "Python 3",
   "language": "python",
   "name": "python3"
  },
  "language_info": {
   "codemirror_mode": {
    "name": "ipython",
    "version": 3
   },
   "file_extension": ".py",
   "mimetype": "text/x-python",
   "name": "python",
   "nbconvert_exporter": "python",
   "pygments_lexer": "ipython3",
   "version": "3.7.3"
  }
 },
 "nbformat": 4,
 "nbformat_minor": 4
}
